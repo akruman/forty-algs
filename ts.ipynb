{
 "cells": [
  {
   "cell_type": "code",
   "execution_count": 1,
   "metadata": {},
   "outputs": [],
   "source": [
    "import random\n",
    "from itertools import permutations\n",
    "alltours = permutations \n",
    "\n",
    "def distance_tour(aTour):\n",
    "    return sum(distance_points(aTour[i - 1], aTour[i]) \n",
    "               for i in range(len(aTour)))\n",
    "\n",
    "aCity = complex\n",
    "\n",
    "def distance_points(first, second): return abs(first - second)\n",
    "\n",
    "def generate_cities (number_of_cities):\n",
    "    seed=111;width=500;height=300\n",
    "    random.seed((number_of_cities, seed))\n",
    "    return frozenset(aCity(random.randint(1, width), random.randint(1, height))\n",
    "                     for c in range(number_of_cities))"
   ]
  },
  {
   "cell_type": "code",
   "execution_count": 2,
   "metadata": {},
   "outputs": [
    {
     "ename": "SyntaxError",
     "evalue": "EOL while scanning string literal (1585476619.py, line 2)",
     "output_type": "error",
     "traceback": [
      "\u001b[0;36m  Input \u001b[0;32mIn [2]\u001b[0;36m\u001b[0m\n\u001b[0;31m    \"Generate all possible tours of the cities and choose the shortest\u001b[0m\n\u001b[0m                                                                       ^\u001b[0m\n\u001b[0;31mSyntaxError\u001b[0m\u001b[0;31m:\u001b[0m EOL while scanning string literal\n"
     ]
    }
   ],
   "source": [
    "def brute_force(cities):\n",
    "    \"Generate all possible tours of the cities and choose the shortest tour.\"\n",
    "    return shortest_tour(alltours(cities))\n",
    "\n",
    "def shortest_tour(tours): return min(tours, key=distance_tour)"
   ]
  },
  {
   "cell_type": "code",
   "execution_count": null,
   "metadata": {},
   "outputs": [],
   "source": []
  }
 ],
 "metadata": {
  "interpreter": {
   "hash": "d0c8b9b68926f9f07288764f9575e488c44f49e308d30a5a1f948e4c0e0176bb"
  },
  "kernelspec": {
   "display_name": "Python 3.8.10 ('venv': venv)",
   "language": "python",
   "name": "python3"
  },
  "language_info": {
   "codemirror_mode": {
    "name": "ipython",
    "version": 3
   },
   "file_extension": ".py",
   "mimetype": "text/x-python",
   "name": "python",
   "nbconvert_exporter": "python",
   "pygments_lexer": "ipython3",
   "version": "3.8.10"
  },
  "orig_nbformat": 4
 },
 "nbformat": 4,
 "nbformat_minor": 2
}
